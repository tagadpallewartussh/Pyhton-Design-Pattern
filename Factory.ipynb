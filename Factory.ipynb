{
 "cells": [
  {
   "cell_type": "code",
   "execution_count": 5,
   "metadata": {},
   "outputs": [
    {
     "name": "stdout",
     "output_type": "stream",
     "text": [
      "Woof!\n",
      "Meow!\n"
     ]
    }
   ],
   "source": [
    "class Dog:\n",
    "\n",
    "    def __init__(self, name):\n",
    "        self._name = name\n",
    "\n",
    "    def speak(self):\n",
    "        return \"Woof!\"\n",
    "\n",
    "class Cat:\n",
    "\n",
    "    def __init__(self, name):\n",
    "        self._name = name\n",
    "\n",
    "    def speak(self):\n",
    "        return \"Meow!\"\n",
    "\n",
    "def get_pet(pet=\"dog \"):\n",
    "\n",
    "#\"\"\"The factory method\"\"\"\n",
    "\n",
    "    pets = dict(dog=Dog(\"Hope\"), cat=Cat(\"Peace\"))\n",
    "\n",
    "    return pets[pet]\n",
    "\n",
    "d = get_pet(\"dog\")\n",
    "\n",
    "print(d.speak())\n",
    "\n",
    "c = get_pet(\"cat\")\n",
    "\n",
    "print(c.speak())\n"
   ]
  },
  {
   "cell_type": "markdown",
   "metadata": {},
   "source": [
    "# Abstract Factory"
   ]
  },
  {
   "cell_type": "code",
   "execution_count": 6,
   "metadata": {},
   "outputs": [
    {
     "name": "stdout",
     "output_type": "stream",
     "text": [
      "Our pet is 'Dog'!\n",
      "Our pet says hello by 'Woof!'\n",
      "Its food is 'Dog Food!'!\n"
     ]
    }
   ],
   "source": [
    "class Dog:\n",
    "    #\"\"\"One of the objects to be returned\"\"\"\n",
    "\n",
    "    def speak(self):\n",
    "        return \"Woof!\"\n",
    "\n",
    "    def __str__(self):\n",
    "        return \"Dog\"\n",
    "\n",
    "\n",
    "class DogFactory:\n",
    "    #\"\"\"Concrete Factory\"\"\"\n",
    "\n",
    "    def get_pet(self):\n",
    "        #\"\"\"Returns a Dog object\"\"\"\n",
    "        return Dog()\n",
    "\n",
    "    def get_food(self):\n",
    "#\"\"\"Returns a Dog Food object\"\"\"\n",
    "        return \"Dog Food!\"\n",
    "\n",
    "\n",
    "class PetStore:\n",
    "    #\"\"\" PetStore houses our Abstract Factory \"\"\"\n",
    "\n",
    "    def __init__(self, pet_factory=None):\n",
    "        #\"\"\" pet_factory is our Abstract Factory \"\"\"\n",
    "\n",
    "        self._pet_factory = pet_factory\n",
    "\n",
    "\n",
    "    def show_pet(self):\n",
    "        #\"\"\" Utility method to display the details of the objects retured by the DogFactory \"\"\"\n",
    "\n",
    "        pet = self._pet_factory.get_pet()\n",
    "        pet_food = self._pet_factory.get_food()\n",
    "\n",
    "        print(\"Our pet is '{}'!\".format(pet))\n",
    "        print(\"Our pet says hello by '{}'\".format(pet.speak()))\n",
    "        print(\"Its food is '{}'!\".format(pet_food))\n",
    "\n",
    "\n",
    "#Create a Concrete Factory\n",
    "factory = DogFactory()\n",
    "\n",
    "#Create a pet store housing our Abstract Factory\n",
    "shop = PetStore(factory)\n",
    "\n",
    "#Invoke the utility method to show the details of our pet\n",
    "shop.show_pet()\n",
    "\n"
   ]
  },
  {
   "cell_type": "markdown",
   "metadata": {},
   "source": [
    "# Singleton"
   ]
  },
  {
   "cell_type": "code",
   "execution_count": 7,
   "metadata": {},
   "outputs": [
    {
     "name": "stdout",
     "output_type": "stream",
     "text": [
      "{'HTTP': 'Hyper Text Transfer Protocol'}\n",
      "{'HTTP': 'Hyper Text Transfer Protocol', 'SNMP': 'Simple Network Management Protocol'}\n"
     ]
    }
   ],
   "source": [
    "class Borg:\n",
    "    #\"\"\"Borg pattern making the class attributes global\"\"\"\n",
    "    _shared_data = {} # Attribute dictionary\n",
    "\n",
    "    def __init__(self):\n",
    "        self.__dict__ = self._shared_data # Make it an attribute dictionary\n",
    "\n",
    "        \n",
    "class Singleton(Borg): #Inherits from the Borg class\n",
    "    #\"\"\"This class now shares all its attributes among its various instances\"\"\"\n",
    "    #This essenstially makes the singleton objects an object-oriented global variable\n",
    "\n",
    "    def __init__(self, **kwargs):\n",
    "        Borg.__init__(self)\n",
    "        self._shared_data.update(kwargs) # Update the attribute dictionary by inserting a new key-value pair \n",
    "\n",
    "    def __str__(self):\n",
    "        return str(self._shared_data) # Returns the attribute dictionary for printing\n",
    "\n",
    "#Let's create a singleton object and add our first acronym\n",
    "x = Singleton(HTTP=\"Hyper Text Transfer Protocol\")\n",
    "# Print the object\n",
    "print(x) \n",
    "\n",
    "#Let's create another singleton object and if it refers to the same attribute dictionary by adding another acronym.\n",
    "y = Singleton(SNMP=\"Simple Network Management Protocol\")\n",
    "# Print the object\n",
    "print(y)\n",
    "\n"
   ]
  },
  {
   "cell_type": "markdown",
   "metadata": {},
   "source": [
    "# Builder"
   ]
  },
  {
   "cell_type": "code",
   "execution_count": 8,
   "metadata": {},
   "outputs": [
    {
     "name": "stdout",
     "output_type": "stream",
     "text": [
      "Skylark | Regular tires | Turbo engine\n"
     ]
    }
   ],
   "source": [
    "class Director():\n",
    "    \"\"\"Director\"\"\"\n",
    "    def __init__(self, builder):\n",
    "        self._builder = builder \n",
    "        \n",
    "    def construct_car(self):\n",
    "        self._builder.create_new_car()\n",
    "        self._builder.add_model()\n",
    "        self._builder.add_tires()\n",
    "        self._builder.add_engine()\n",
    "        \n",
    "    def get_car(self):\n",
    "        return self._builder.car\n",
    "        \n",
    "        \n",
    " \n",
    "class Builder():\n",
    "    \"\"\"Abstract Builder\"\"\"\n",
    "    def __init__(self):\n",
    "        self.car = None \n",
    "        \n",
    "    def create_new_car(self):\n",
    "        self.car = Car()\n",
    "        \n",
    "\n",
    "\n",
    "class SkyLarkBuilder(Builder):\n",
    "    \"\"\"Concrete Builder --> provides parts and tools to work on the parts \"\"\"\n",
    "    \n",
    "    def add_model(self):\n",
    "        self.car.model = \"Skylark\"\n",
    "\n",
    "    def add_tires(self):\n",
    "        self.car.tires = \"Regular tires\"\n",
    "\n",
    "    def add_engine(self):    \n",
    "        self.car.engine = \"Turbo engine\"\n",
    "\n",
    "class Car():\n",
    "    \"\"\"Product\"\"\"\n",
    "    def __init__(self):\n",
    "        self.model = None\n",
    "        self.tires = None\n",
    "        self.engine = None\n",
    "        \n",
    "    def __str__(self):\n",
    "        return '{} | {} | {}'.format(self.model, self.tires, self.engine)\n",
    "\n",
    "builder = SkyLarkBuilder()\n",
    "director = Director(builder)\n",
    "director.construct_car()\n",
    "car = director.get_car()\n",
    "print(car)\n"
   ]
  },
  {
   "cell_type": "markdown",
   "metadata": {},
   "source": [
    "# Prototyoe"
   ]
  },
  {
   "cell_type": "code",
   "execution_count": 9,
   "metadata": {},
   "outputs": [
    {
     "name": "stdout",
     "output_type": "stream",
     "text": [
      "Skylark | Red | Ex\n"
     ]
    }
   ],
   "source": [
    "import copy\n",
    "\n",
    "class Prototype:\n",
    "    \n",
    "    def __init__(self):\n",
    "        self._objects = {}\n",
    "        \n",
    "    def register_object(self, name, obj):\n",
    "        \"\"\"Register an object\"\"\"\n",
    "        self._objects[name] = obj\n",
    "        \n",
    "    def unregister_object(self, name):\n",
    "        \"\"\"Unregister an object\"\"\"\n",
    "        del self._objects[name]\n",
    "        \n",
    "    def clone(self, name, **attr):\n",
    "        \"\"\"Clone a registered object and update its attributes\"\"\"\n",
    "        obj = copy.deepcopy(self._objects.get(name))\n",
    "        obj.__dict__.update(attr)\n",
    "        return obj\n",
    "        \n",
    "class Car:\n",
    "    def __init__(self):\n",
    "        self.name = \"Skylark\"\n",
    "        self.color = \"Red\"\n",
    "        self.options = \"Ex\"\n",
    "        \n",
    "    def __str__(self):\n",
    "        return '{} | {} | {}'.format(self.name, self.color, self.options)\n",
    "        \n",
    "c = Car()\n",
    "prototype = Prototype()\n",
    "prototype.register_object('skylark',c)\n",
    "\n",
    "c1 = prototype.clone('skylark')\n",
    "\n",
    "print(c1)\n"
   ]
  },
  {
   "cell_type": "code",
   "execution_count": null,
   "metadata": {},
   "outputs": [],
   "source": []
  }
 ],
 "metadata": {
  "kernelspec": {
   "display_name": "Python 3",
   "language": "python",
   "name": "python3"
  },
  "language_info": {
   "codemirror_mode": {
    "name": "ipython",
    "version": 3
   },
   "file_extension": ".py",
   "mimetype": "text/x-python",
   "name": "python",
   "nbconvert_exporter": "python",
   "pygments_lexer": "ipython3",
   "version": "3.7.6"
  }
 },
 "nbformat": 4,
 "nbformat_minor": 4
}
