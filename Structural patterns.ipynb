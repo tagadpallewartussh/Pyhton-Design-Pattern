{
 "cells": [
  {
   "cell_type": "markdown",
   "metadata": {},
   "source": [
    "# Proxy"
   ]
  },
  {
   "cell_type": "code",
   "execution_count": 1,
   "metadata": {},
   "outputs": [
    {
     "name": "stdout",
     "output_type": "stream",
     "text": [
      "Artist checking if Producer is available ...\n",
      "Producer has time to meet you now!\n",
      "Artist checking if Producer is available ...\n",
      "Producer is busy!\n"
     ]
    }
   ],
   "source": [
    "import time\n",
    "\n",
    "class Producer:\n",
    "#\"\"\"Define the 'resource-intensive' object to instantiate!\"\"\"\n",
    "    def produce(self):\n",
    "        print(\"Producer is working hard!\")\n",
    "\n",
    "    def meet(self):\n",
    "        print(\"Producer has time to meet you now!\")\n",
    "\n",
    "class Proxy:\n",
    "    #\"\"\"\"Define the 'relatively less resource-intensive' proxy to instantiate as a middleman\"\"\"\n",
    "    def __init__(self):  \n",
    "        self.occupied = 'No'\n",
    "        self.producer = None\n",
    "\n",
    "    def produce(self):\n",
    "        #\"\"\"Check if Producer is available\"\"\"\n",
    "        print(\"Artist checking if Producer is available ...\")\n",
    "\n",
    "        if self.occupied == 'No':\n",
    "            #If the producer is available, create a producer object!\n",
    "            self.producer = Producer()\n",
    "            time.sleep(2)\n",
    "\n",
    "            #Make the prodcuer meet the guest!\n",
    "            self.producer.meet()\n",
    "            \n",
    "        else:\n",
    "            #Otherwise, don't instantiate a producer \n",
    "            time.sleep(2)\n",
    "            print(\"Producer is busy!\")\n",
    "\n",
    "#Instantiate a Proxy\n",
    "p = Proxy()\n",
    "\n",
    "#Make the proxy: Artist produce until Producer is available\n",
    "p.produce()\n",
    "\n",
    "#Change the state to 'occupied'\n",
    "p.occupied = 'Yes'\n",
    "\n",
    "#Make the Producer produce\n",
    "p.produce()\n",
    "\n"
   ]
  },
  {
   "cell_type": "markdown",
   "metadata": {},
   "source": [
    "# DECORATOR"
   ]
  },
  {
   "cell_type": "code",
   "execution_count": 2,
   "metadata": {},
   "outputs": [
    {
     "name": "stdout",
     "output_type": "stream",
     "text": [
      "<blink>Hello, World!</blink>\n",
      "hello_world\n",
      "None\n"
     ]
    }
   ],
   "source": [
    "from functools import wraps\n",
    "\n",
    "def make_blink(function):\n",
    "    #\"\"\"Defines the decorator\"\"\"\n",
    "\n",
    "#This makes the decorator transparent in terms of its name and docstring\n",
    "    @wraps(function)\n",
    "\n",
    "    #Define the inner function\n",
    "    def decorator():\n",
    "        #Grab the return value of the function being decorated\n",
    "        ret = function() \n",
    "\n",
    "        #Add new functionality to the function being decorated\n",
    "        return \"<blink>\" + ret + \"</blink>\"\n",
    "\n",
    "    return decorator\n",
    "\n",
    "#Apply the decorator here!\n",
    "@make_blink\n",
    "def hello_world():\n",
    "    #\"\"\"Original function! \"\"\"\n",
    "\n",
    "    return \"Hello, World!\"\n",
    "\n",
    "#Check the result of decorating\n",
    "print(hello_world())\n",
    "\n",
    "#Check if the function name is still the same name of the function being decorated\n",
    "print(hello_world.__name__)\n",
    "\n",
    "#Check if the docstring is still the same as that of the function being decorated\n",
    "print(hello_world.__doc__)\n",
    "\n"
   ]
  },
  {
   "cell_type": "markdown",
   "metadata": {},
   "source": [
    "# Adpatar"
   ]
  },
  {
   "cell_type": "code",
   "execution_count": 3,
   "metadata": {},
   "outputs": [
    {
     "name": "stdout",
     "output_type": "stream",
     "text": [
      "Korean says 'An-neyong?'\n",
      "\n",
      "British says 'Hello!'\n",
      "\n"
     ]
    }
   ],
   "source": [
    "class Korean:\n",
    "    #\"\"\"Korean speaker\"\"\"\n",
    "    def __init__(self):\n",
    "        self.name = \"Korean\"\n",
    "\n",
    "    def speak_korean(self):\n",
    "        return \"An-neyong?\"\n",
    "\n",
    "class British:\n",
    "#\"\"\"English speaker\"\"\"\n",
    "    def __init__(self):\n",
    "        self.name = \"British\"\t\n",
    "\n",
    "    #Note the different method name here!\n",
    "    def speak_english(self):\n",
    "        return \"Hello!\"\t\n",
    "\n",
    "class Adapter:\n",
    "#\"\"\"This changes the generic method name to individualized method names\"\"\"\n",
    "\n",
    "    def __init__(self, object, **adapted_method):\n",
    "        \"\"\"Change the name of the method\"\"\"\n",
    "        self._object = object\n",
    "\n",
    "#Add a new dictionary item that establishes the mapping between the generic method name: speak() and the concrete method\n",
    "#For example, speak() will be translated to speak_korean() if the mapping says so\n",
    "        self.__dict__.update(adapted_method)\n",
    "\n",
    "    def __getattr__(self, attr):\n",
    "        #\"\"\"Simply return the rest of attributes!\"\"\"\n",
    "        return getattr(self._object, attr)\n",
    "\n",
    "#List to store speaker objects\n",
    "objects = []\n",
    "\n",
    "#Create a Korean object\n",
    "korean = Korean()\n",
    "\n",
    "#Create a British object\n",
    "british =British()\n",
    "\n",
    "#Append the objects to the objects list\n",
    "objects.append(Adapter(korean, speak=korean.speak_korean))\n",
    "objects.append(Adapter(british, speak=british.speak_english))\n",
    "\n",
    "\n",
    "for obj in objects:\n",
    "    print(\"{} says '{}'\\n\".format(obj.name, obj.speak()))\n",
    "\n"
   ]
  },
  {
   "cell_type": "markdown",
   "metadata": {},
   "source": [
    "# Composite"
   ]
  },
  {
   "cell_type": "code",
   "execution_count": 4,
   "metadata": {},
   "outputs": [
    {
     "name": "stdout",
     "output_type": "stream",
     "text": [
      "top_menu\n",
      "submenu1\n",
      "sub_submenu 11\n",
      "sub_submenu 12\n",
      "submenu2\n"
     ]
    }
   ],
   "source": [
    "class Component(object):\n",
    "    #\"\"\"Abstract class\"\"\"\n",
    "\n",
    "    def __init__(self, *args, **kwargs):\n",
    "        pass\n",
    "\n",
    "    def component_function(self):\n",
    "        pass\n",
    "\n",
    "class Child(Component): #Inherits from the abstract class, Component\n",
    "    #\"\"\"Concrete class\"\"\"\n",
    "\n",
    "    def __init__(self, *args, **kwargs):\n",
    "        Component.__init__(self, *args, **kwargs)\n",
    "\n",
    "        #This is where we store the name of your child item!\n",
    "        self.name = args[0]\n",
    "\n",
    "    def component_function(self):\n",
    "        #Print the name of your child item here!\n",
    "        print(\"{}\".format(self.name))\n",
    "\n",
    "class Composite(Component): #Inherits from the abstract class, Component\n",
    "    \"\"\"Concrete class and maintains the tree recursive structure\"\"\"\n",
    "\n",
    "    def __init__(self, *args, **kwargs):\n",
    "        Component.__init__(self, *args, **kwargs)\n",
    "\n",
    "        #This is where we store the name of the composite object\n",
    "        self.name = args[0]\n",
    "\n",
    "        #This is where we keep our child items\n",
    "        self.children = []\n",
    "\n",
    "    def append_child(self, child):\n",
    "        #\"\"\"Method to add a new child item\"\"\"\n",
    "        self.children.append(child)\n",
    "\n",
    "    def remove_child(self, child):\n",
    "        #\"\"\"Method to remove a child item\"\"\"\n",
    "        self.children.remove(child)\n",
    "\n",
    "    def component_function(self):\n",
    "\n",
    "        #Print the name of the composite object\n",
    "        print(\"{}\".format(self.name))\n",
    "\n",
    "        #Iterate through the child objects and invoke their component function printing their names\n",
    "        for i in self.children:\n",
    "            i.component_function()\n",
    "\n",
    "#Build a composite submenu 1\n",
    "sub1 = Composite(\"submenu1\")\n",
    "\n",
    "#Create a new child sub_submenu 11\n",
    "sub11 = Child(\"sub_submenu 11\")\n",
    "#Create a new Child sub_submenu 12\n",
    "sub12 = Child(\"sub_submenu 12\")\n",
    "\n",
    "#Add the sub_submenu 11 to submenu 1\n",
    "sub1.append_child(sub11)\n",
    "#Add the sub_submenu 12 to submenu 1\n",
    "sub1.append_child(sub12)\n",
    "\n",
    "#Build a top-level composite menu\n",
    "top = Composite(\"top_menu\")\n",
    "\n",
    "#Build a submenu 2 that is not a composite\n",
    "sub2 = Child(\"submenu2\")\n",
    "\n",
    "#Add the composite submenu 1 to the top-level composite menu\n",
    "top.append_child(sub1)\n",
    "\n",
    "#Add the plain submenu 2 to the top-level composite menu\n",
    "top.append_child(sub2)\n",
    "\n",
    "#Let's test if our Composite pattern works!\n",
    "top.component_function()\n",
    "\n"
   ]
  },
  {
   "cell_type": "markdown",
   "metadata": {},
   "source": [
    "# Bridge"
   ]
  },
  {
   "cell_type": "code",
   "execution_count": 5,
   "metadata": {},
   "outputs": [
    {
     "name": "stdout",
     "output_type": "stream",
     "text": [
      "API 1 drawing a circle at (1, 2 with radius 3!)\n",
      "API 2 drawing a circle at (2, 3 with radius 4!)\n"
     ]
    }
   ],
   "source": [
    "class DrawingAPIOne(object):\n",
    "    #\"\"\"Implementation-specific abstraction: concrete class one\"\"\"\n",
    "    def draw_circle(self, x, y, radius):\n",
    "        print(\"API 1 drawing a circle at ({}, {} with radius {}!)\".format(x, y, radius))\n",
    "\n",
    "\n",
    "class DrawingAPITwo(object):\n",
    "    #\"\"\"Implementation-specific abstraction: concrete class two\"\"\"\n",
    "    def draw_circle(self, x, y, radius):\n",
    "        print(\"API 2 drawing a circle at ({}, {} with radius {}!)\".format(x, y, radius))\n",
    "\n",
    "class Circle(object):\n",
    "#\"\"\"Implementation-independent abstraction: for example, there could be a rectangle class!\"\"\"\n",
    "\n",
    "    def __init__(self, x, y, radius, drawing_api):\n",
    "        #\"\"\"Initialize the necessary attributes\"\"\"\n",
    "        self._x = x\n",
    "        self._y = y\n",
    "        self._radius = radius\n",
    "        self._drawing_api = drawing_api\n",
    "\n",
    "    def draw(self):\n",
    "#\"\"\"Implementation-specific abstraction taken care of by another class: DrawingAPI\"\"\"\n",
    "        self._drawing_api.draw_circle(self._x, self._y, self._radius)\n",
    "\n",
    "    def scale(self, percent):\n",
    "        #\"\"\"Implementation-independent\"\"\"\n",
    "        self._radius *= percent\n",
    "\n",
    "\n",
    "#Build the first Circle object using API One\n",
    "circle1 = Circle(1, 2, 3, DrawingAPIOne())\n",
    "#Draw a circle\n",
    "circle1.draw()\n",
    "\n",
    "#Build the second Circle object using API Two\n",
    "circle2 = Circle(2, 3, 4, DrawingAPITwo())\n",
    "#Draw a circle\n",
    "circle2.draw()\n",
    "\n",
    "\n"
   ]
  },
  {
   "cell_type": "code",
   "execution_count": null,
   "metadata": {},
   "outputs": [],
   "source": []
  }
 ],
 "metadata": {
  "kernelspec": {
   "display_name": "Python 3",
   "language": "python",
   "name": "python3"
  },
  "language_info": {
   "codemirror_mode": {
    "name": "ipython",
    "version": 3
   },
   "file_extension": ".py",
   "mimetype": "text/x-python",
   "name": "python",
   "nbconvert_exporter": "python",
   "pygments_lexer": "ipython3",
   "version": "3.7.6"
  }
 },
 "nbformat": 4,
 "nbformat_minor": 4
}
