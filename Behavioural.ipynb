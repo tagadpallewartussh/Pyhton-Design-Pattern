{
 "cells": [
  {
   "cell_type": "markdown",
   "metadata": {},
   "source": [
    "# Observer"
   ]
  },
  {
   "cell_type": "code",
   "execution_count": 1,
   "metadata": {},
   "outputs": [
    {
     "name": "stdout",
     "output_type": "stream",
     "text": [
      "Temperature Viewer: Core 1 has Temperature 80\n",
      "Temperature Viewer: Core 1 has Temperature 80\n",
      "Temperature Viewer: Core 1 has Temperature 90\n",
      "Temperature Viewer: Core 1 has Temperature 90\n"
     ]
    }
   ],
   "source": [
    "class Subject(object): #Represents what is being 'observed'\n",
    "\n",
    "    def __init__(self):\n",
    "        self._observers = [] # This where references to all the observers are being kept\n",
    "# Note that this is a one-to-many relationship: there will be one subject to be observed by multiple _observers\n",
    "\n",
    "    def attach(self, observer):\n",
    "        if observer not in self._observers: #If the observer is not already in the observers list\n",
    "            self._observers.append(observer) # append the observer to the list\n",
    "\n",
    "    def detach(self, observer): #Simply remove the observer\n",
    "        try:\n",
    "            self._observers.remove(observer)\n",
    "        except ValueError:\n",
    "            pass\n",
    "\n",
    "    def notify(self, modifier=None):\n",
    "        for observer in self._observers: # For all the observers in the list\n",
    "            if modifier != observer: # Don't notify the observer who is actually updating the temperature \n",
    "                observer.update(self) # Alert the observers!\n",
    "\n",
    "class Core(Subject): #Inherits from the Subject class\n",
    "\n",
    "    def __init__(self, name=\"\"):\n",
    "        Subject.__init__(self)\n",
    "        self._name = name #Set the name of the core\n",
    "        self._temp = 0 #Initialize the temperature of the core\n",
    "\n",
    "    @property #Getter that gets the core temperature\n",
    "    def temp(self):\n",
    "        return self._temp\n",
    "\n",
    "    @temp.setter #Setter that sets the core temperature\n",
    "    def temp(self, temp):\n",
    "        self._temp = temp\n",
    "        self.notify() #Notify the observers whenever somebody changes the core temperature\n",
    "\n",
    "class TempViewer:\n",
    "\n",
    "    def update(self, subject): #Alert method that is invoked when the notify() method in a concrete subject is invoked\n",
    "        print(\"Temperature Viewer: {} has Temperature {}\".format(subject._name, subject._temp))\n",
    "\n",
    "#Let's create our subjects\n",
    "c1 = Core(\"Core 1\")\n",
    "c2 = Core(\"Core 2\")\n",
    "\n",
    "#Let's create our observers\n",
    "v1 = TempViewer()\n",
    "v2 = TempViewer()\n",
    "\n",
    "#Let's attach our observers to the first core\n",
    "c1.attach(v1)\n",
    "c1.attach(v2)\n",
    "\n",
    "#Let's change the temperature of our first core\n",
    "c1.temp = 80\n",
    "c1.temp = 90"
   ]
  },
  {
   "cell_type": "markdown",
   "metadata": {},
   "source": [
    "# Visitor"
   ]
  },
  {
   "cell_type": "code",
   "execution_count": 2,
   "metadata": {},
   "outputs": [
    {
     "name": "stdout",
     "output_type": "stream",
     "text": [
      "House worked on by HvacSpecialist\n",
      "House worked on by Electrician\n"
     ]
    }
   ],
   "source": [
    "class House(object): #The class being visited \n",
    "    def accept(self, visitor):\n",
    "        #\"\"\"Interface to accept a visitor\"\"\"\n",
    "        visitor.visit(self) #Triggers the visiting operation!\n",
    "\n",
    "    def work_on_hvac(self, hvac_specialist):\n",
    "        print(self, \"worked on by\", hvac_specialist) #Note that we now have a reference to the HVAC specialist object in the house object!\n",
    "\n",
    "    def work_on_electricity(self, electrician):\n",
    "        print(self, \"worked on by\", electrician) #Note that we now have a reference to the electrician object in the house object!\n",
    "\n",
    "    def __str__(self):\n",
    "        #\"\"\"Simply return the class name when the House object is printed\"\"\"\n",
    "        return self.__class__.__name__\n",
    "\n",
    "\n",
    "class Visitor(object):\n",
    "    \"\"\"Abstract visitor\"\"\"\n",
    "    def __str__(self):\n",
    "        #\"\"\"Simply return the class name when the Visitor object is printed\"\"\"\n",
    "        return self.__class__.__name__\n",
    "\n",
    "\n",
    "class HvacSpecialist(Visitor): #Inherits from the parent class, Visitor\n",
    "    #\"\"\"Concrete visitor: HVAC specialist\"\"\"\n",
    "    def visit(self, house):\n",
    "        house.work_on_hvac(self) #Note that the visitor now has a reference to the house object\n",
    "\n",
    "\n",
    "class Electrician(Visitor): #Inherits from the parent class, Visitor\n",
    "    #\"\"\"Concrete visitor: electrician\"\"\"\n",
    "    def visit(self, house):\n",
    "        house.work_on_electricity(self) #Note that the visitor now has a reference to the house object\n",
    "\n",
    "#Create an HVAC specialist\n",
    "hv = HvacSpecialist()\n",
    "#Create an electrician\n",
    "e = Electrician()\n",
    "\n",
    "#Create a house\n",
    "home = House()\n",
    "\n",
    "#Let the house accept the HVAC specialist and work on the house by invoking the visit() method\n",
    "home.accept(hv)\n",
    "\n",
    "#Let the house accept the electrician and work on the house by invoking the visit() method\n",
    "home.accept(e)\n",
    "\n",
    "\n"
   ]
  },
  {
   "cell_type": "markdown",
   "metadata": {},
   "source": [
    "# Iterator"
   ]
  },
  {
   "cell_type": "code",
   "execution_count": 3,
   "metadata": {},
   "outputs": [
    {
     "name": "stdout",
     "output_type": "stream",
     "text": [
      "eins\n",
      "zwei\n",
      "drei\n",
      "eins\n",
      "zwei\n",
      "drei\n",
      "vier\n"
     ]
    }
   ],
   "source": [
    "def count_to(count):\n",
    "    #\"\"\"Our iterator implementation\"\"\"\n",
    "\n",
    "    #Our list\n",
    "    numbers_in_german = [\"eins\", \"zwei\", \"drei\", \"vier\", \"funf\"]\n",
    "\n",
    "    #Our built-in iterator\n",
    "    #Creates a tuple such as (1, \"eins\")\n",
    "    iterator = zip(range(count), numbers_in_german)\n",
    "    \n",
    "    #Iterate through our iterable list\n",
    "    #Extract the German numbers\n",
    "    #Put them in a generator called number\n",
    "    for position, number in iterator:\n",
    "        \n",
    "        #Returns a 'generator' containing numbers in German\n",
    "        yield number \n",
    "\n",
    "#Let's test the generator returned by our iterator\n",
    "for num in count_to(3):\n",
    "    print(\"{}\".format(num))\n",
    "\n",
    "for num in count_to(4):\n",
    "    print(\"{}\".format(num))\n"
   ]
  },
  {
   "cell_type": "markdown",
   "metadata": {},
   "source": [
    "# Strategy"
   ]
  },
  {
   "cell_type": "code",
   "execution_count": 4,
   "metadata": {},
   "outputs": [
    {
     "name": "stdout",
     "output_type": "stream",
     "text": [
      "Default Strategy is used!\n",
      "Strategy One is used to execute method 1\n",
      "Strategy Two is used to execute method 2\n"
     ]
    }
   ],
   "source": [
    "import types #Import the types module\n",
    "\n",
    "class Strategy:\n",
    "    #\"\"\"The Strategy Pattern class\"\"\"\n",
    "    \n",
    "    def __init__(self, function=None):\n",
    "        self.name = \"Default Strategy\"\n",
    "        \n",
    "        #If a reference to a function is provided, replace the execute() method with the given function\n",
    "        if function:\n",
    "            self.execute = types.MethodType(function, self)\n",
    "            \n",
    "    def execute(self): #This gets replaced by another version if another strategy is provided.\n",
    "        #\"\"\"The defaut method that prints the name of the strategy being used\"\"\"\n",
    "        print(\"{} is used!\".format(self.name))\n",
    "\n",
    "#Replacement method 1\n",
    "def strategy_one(self):\n",
    "    print(\"{} is used to execute method 1\".format(self.name))\n",
    "\n",
    "#Replacement method 2    \n",
    "def strategy_two(self):\n",
    "    print(\"{} is used to execute method 2\".format(self.name))\n",
    "    \n",
    "#Let's create our default strategy\n",
    "s0 = Strategy()\n",
    "#Let's execute our default strategy\n",
    "s0.execute()\n",
    "\n",
    "#Let's create the first varition of our default strategy by providing a new behavior\n",
    "s1 = Strategy(strategy_one)\n",
    "#Let's set its name\n",
    "s1.name = \"Strategy One\"\n",
    "#Let's execute the strategy\n",
    "s1.execute()\n",
    "\n",
    "s2 = Strategy(strategy_two)\n",
    "s2.name = \"Strategy Two\"\n",
    "s2.execute()\n",
    "\n"
   ]
  },
  {
   "cell_type": "markdown",
   "metadata": {},
   "source": [
    "# Chain of Responsibility"
   ]
  },
  {
   "cell_type": "code",
   "execution_count": 5,
   "metadata": {},
   "outputs": [
    {
     "name": "stdout",
     "output_type": "stream",
     "text": [
      "Request 2 handled in handler 1\n",
      "Request 5 handled in handler 1\n",
      "End of chain, no handler for 30\n"
     ]
    }
   ],
   "source": [
    "class Handler: #Abstract handler\n",
    "    #\"\"\"Abstract Handler\"\"\"\n",
    "    def __init__(self, successor):\n",
    "        self._successor = successor # Define who is the next handler\n",
    "\n",
    "    def handle(self, request):\n",
    "            handled = self._handle(request) #If handled, stop here\n",
    "\n",
    "            #Otherwise, keep going\n",
    "            if not handled:\n",
    "                self._successor.handle(request)\t\n",
    "\n",
    "    def _handle(self, request):\n",
    "        raise NotImplementedError('Must provide implementation in subclass!')\n",
    "\n",
    "class ConcreteHandler1(Handler): # Inherits from the abstract handler\n",
    "    #\"\"\"Concrete handler 1\"\"\"\n",
    "    def _handle(self, request):\n",
    "        if 0 < request <= 10: # Provide a condition for handling\n",
    "            print(\"Request {} handled in handler 1\".format(request))\n",
    "            return True # Indicates that the request has been handled\n",
    "\n",
    "class DefaultHandler(Handler): # Inherits from the abstract handler\n",
    "    #\"\"\"Default handler\"\"\"\n",
    "\n",
    "    def _handle(self, request):\n",
    "        \"\"\"If there is no handler available\"\"\"\n",
    "        #No condition checking since this is a default handler\n",
    "        print(\"End of chain, no handler for {}\".format(request))\n",
    "        return True # Indicates that the request has been handled\n",
    "\n",
    "class Client: # Using handlers\n",
    "    def __init__(self):\n",
    "        self.handler = ConcreteHandler1(DefaultHandler(None)) # Create handlers and use them in a sequence you want\n",
    "    # Note that the default handler has no successor\n",
    "\n",
    "    def delegate(self, requests): # Send your requests one at a time for handlers to handle\n",
    "        for request in requests:\n",
    "                self.handler.handle(request)\n",
    "\n",
    "# Create a client\n",
    "c = Client()\n",
    "\n",
    "# Create requests\n",
    "requests = [2, 5, 30]\n",
    "\n",
    "# Send the requests\n",
    "c.delegate(requests)\n",
    "\n",
    "\n"
   ]
  },
  {
   "cell_type": "code",
   "execution_count": null,
   "metadata": {},
   "outputs": [],
   "source": []
  }
 ],
 "metadata": {
  "kernelspec": {
   "display_name": "Python 3",
   "language": "python",
   "name": "python3"
  },
  "language_info": {
   "codemirror_mode": {
    "name": "ipython",
    "version": 3
   },
   "file_extension": ".py",
   "mimetype": "text/x-python",
   "name": "python",
   "nbconvert_exporter": "python",
   "pygments_lexer": "ipython3",
   "version": "3.7.6"
  }
 },
 "nbformat": 4,
 "nbformat_minor": 4
}
